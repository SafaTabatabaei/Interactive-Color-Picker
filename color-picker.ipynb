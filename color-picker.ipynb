{
 "cells": [
  {
   "cell_type": "code",
   "execution_count": 1,
   "metadata": {},
   "outputs": [
    {
     "name": "stdout",
     "output_type": "stream",
     "text": [
      "Libraries imported. Starting Color Picker...\n"
     ]
    },
    {
     "data": {
      "application/vnd.jupyter.widget-view+json": {
       "model_id": "227b0a9be6584d7387a8a0d76a611bac",
       "version_major": 2,
       "version_minor": 0
      },
      "text/plain": [
       "interactive(children=(IntSlider(value=0, description='Red:', layout=Layout(width='400px'), max=255, style=Slid…"
      ]
     },
     "metadata": {},
     "output_type": "display_data"
    },
    {
     "name": "stdout",
     "output_type": "stream",
     "text": [
      "\n",
      "Color Picker initialized. Adjust the sliders above!\n",
      "The color box and codes will update dynamically.\n"
     ]
    }
   ],
   "source": [
    "from ipywidgets import interact, IntSlider, ColorPicker, HTML\n",
    "from IPython.display import display, clear_output\n",
    "import colorsys\n",
    "\n",
    "print(\"Libraries imported. Starting Color Picker...\")\n",
    "\n",
    "def rgb_to_hex(r, g, b):\n",
    "    \"\"\"Converts RGB values (0-255) to a hexadecimal string.\"\"\"\n",
    "    return f'#{r:02x}{g:02x}{b:02x}'\n",
    "\n",
    "def update_color_picker(r_val, g_val, b_val):\n",
    "    \"\"\"\n",
    "    Function to update the displayed color and its codes based on slider values.\n",
    "    This function will be called automatically by interact.\n",
    "    \"\"\"\n",
    "    # Convert slider values (0-255) to hex and update HTML for color box\n",
    "    hex_color = rgb_to_hex(r_val, g_val, b_val)\n",
    "\n",
    "    # Convert RGB to HSL for dynamic text color (for better contrast)\n",
    "    # If the color is dark, use white text; if light, use black text\n",
    "    h, l, s = colorsys.rgb_to_hls(r_val/255, g_val/255, b_val/255)\n",
    "    text_color = \"white\" if l < 0.5 else \"black\" # Simple heuristic for text contrast\n",
    "\n",
    "    # Clear previous output to keep the display clean\n",
    "    clear_output(wait=True)\n",
    "\n",
    "    # HTML content for the color display box\n",
    "    color_box_html = f\"\"\"\n",
    "    <div style=\"\n",
    "        width: 300px;\n",
    "        height: 150px;\n",
    "        background-color: {hex_color};\n",
    "        border: 2px solid #555;\n",
    "        border-radius: 10px;\n",
    "        display: flex;\n",
    "        flex-direction: column;\n",
    "        justify-content: center;\n",
    "        align-items: center;\n",
    "        margin-top: 20px;\n",
    "        box-shadow: 2px 2px 8px rgba(0,0,0,0.3);\n",
    "    \">\n",
    "        <p style=\"color: {text_color}; font-size: 1.2em; font-weight: bold; margin: 5px;\">\n",
    "            RGB: ({r_val}, {g_val}, {b_val})\n",
    "        </p>\n",
    "        <p style=\"color: {text_color}; font-size: 1.2em; font-weight: bold; margin: 5px;\">\n",
    "            HEX: {hex_color.upper()}\n",
    "        </p>\n",
    "    </div>\n",
    "    \"\"\"\n",
    "    display(HTML(color_box_html))\n",
    "\n",
    "    # Print current values (optional, for debugging/console output)\n",
    "    # print(f\"Current Color: RGB({r_val}, {g_val}, {b_val}) | HEX: {hex_color.upper()}\")\n",
    "\n",
    "\n",
    "# Create sliders for Red, Green, Blue components\n",
    "red_slider = IntSlider(min=0, max=255, step=1, value=0, description='Red:', continuous_update=True,\n",
    "                       orientation='horizontal', readout=True, readout_format='d',\n",
    "                       style={'description_width': 'initial'}, layout={'width': '400px'})\n",
    "\n",
    "green_slider = IntSlider(min=0, max=255, step=1, value=0, description='Green:', continuous_update=True,\n",
    "                         orientation='horizontal', readout=True, readout_format='d',\n",
    "                         style={'description_width': 'initial'}, layout={'width': '400px'})\n",
    "\n",
    "blue_slider = IntSlider(min=0, max=255, step=1, value=0, description='Blue:', continuous_update=True,\n",
    "                        orientation='horizontal', readout=True, readout_format='d',\n",
    "                        style={'description_width': 'initial'}, layout={'width': '400px'})\n",
    "\n",
    "# Use interact to link sliders to the update_color_picker function\n",
    "# This will automatically create the sliders and call the function whenever a slider changes\n",
    "interact(update_color_picker, r_val=red_slider, g_val=green_slider, b_val=blue_slider);\n",
    "\n",
    "print(\"\\nColor Picker initialized. Adjust the sliders above!\")\n",
    "print(\"The color box and codes will update dynamically.\")"
   ]
  }
 ],
 "metadata": {
  "kernelspec": {
   "display_name": "Python 3",
   "language": "python",
   "name": "python3"
  },
  "language_info": {
   "codemirror_mode": {
    "name": "ipython",
    "version": 3
   },
   "file_extension": ".py",
   "mimetype": "text/x-python",
   "name": "python",
   "nbconvert_exporter": "python",
   "pygments_lexer": "ipython3",
   "version": "3.8.8"
  }
 },
 "nbformat": 4,
 "nbformat_minor": 2
}
